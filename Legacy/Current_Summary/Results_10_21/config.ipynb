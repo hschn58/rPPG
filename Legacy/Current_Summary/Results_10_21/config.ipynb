{
 "cells": [
  {
   "cell_type": "code",
   "execution_count": 1,
   "metadata": {},
   "outputs": [],
   "source": [
    "#use 100_light as an example\n",
    "#get the .npy file\n",
    "import numpy as np\n",
    "\n",
    "filename = f'/Users/henryschnieders/Documents/Research/My_work/Data/100_light_padding'+'_'+'mp4'+ '.npy'\n",
    "\n",
    "data = np.load(filename, allow_pickle=True)\n"
   ]
  },
  {
   "cell_type": "code",
   "execution_count": 4,
   "metadata": {},
   "outputs": [],
   "source": [
    "import cv2\n",
    "video_path='/Users/henryschnieders/Documents/Research/My_work/Current_Summary/Results_10_21/Videos/mp4/100_light.mp4'\n",
    "cap = cv2.VideoCapture(video_path)"
   ]
  },
  {
   "cell_type": "code",
   "execution_count": 7,
   "metadata": {},
   "outputs": [
    {
     "data": {
      "text/plain": [
       "(677, 549)"
      ]
     },
     "execution_count": 7,
     "metadata": {},
     "output_type": "execute_result"
    }
   ],
   "source": [
    "import numpy as np\n",
    "data=np.load(\"/Users/henryschnieders/Documents/Research/My_work/Current_Summary/Results_10_21/out/50_lightheartrate.npy\", allow_pickle=True)\n",
    "\n",
    "\n",
    "data.shape\n"
   ]
  },
  {
   "cell_type": "code",
   "execution_count": 9,
   "metadata": {},
   "outputs": [
    {
     "data": {
      "text/plain": [
       "79.81250065297961"
      ]
     },
     "execution_count": 9,
     "metadata": {},
     "output_type": "execute_result"
    }
   ],
   "source": [
    "good_region=data[148:148+223,182:182+300]\n",
    "\n",
    "#x: 148, y: 182, w: 223, h: 300\n",
    "\n",
    "nonzero=good_region[good_region!=0]\n",
    "ave=np.average(nonzero)\n",
    "ave"
   ]
  },
  {
   "cell_type": "code",
   "execution_count": null,
   "metadata": {},
   "outputs": [],
   "source": []
  }
 ],
 "metadata": {
  "kernelspec": {
   "display_name": "Python 3",
   "language": "python",
   "name": "python3"
  },
  "language_info": {
   "codemirror_mode": {
    "name": "ipython",
    "version": 3
   },
   "file_extension": ".py",
   "mimetype": "text/x-python",
   "name": "python",
   "nbconvert_exporter": "python",
   "pygments_lexer": "ipython3",
   "version": "3.10.7"
  }
 },
 "nbformat": 4,
 "nbformat_minor": 2
}
