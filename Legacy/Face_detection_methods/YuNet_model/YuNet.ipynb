{
 "cells": [
  {
   "cell_type": "code",
   "execution_count": 13,
   "id": "5c8702b5-65e6-46b9-b59c-04dff7b5353e",
   "metadata": {},
   "outputs": [
    {
     "data": {
      "text/plain": [
       "array([[122, 123, 120, ...,  48,  48,  48],\n",
       "       [121, 121, 121, ...,  50,  50,  50],\n",
       "       [122, 125, 123, ...,  50,  49,  49],\n",
       "       ...,\n",
       "       [112, 108, 112, ...,  37,  33,  28],\n",
       "       [121, 110, 108, ...,  38,  34,  28],\n",
       "       [116, 109, 108, ...,  36,  33,  27]], dtype=uint8)"
      ]
     },
     "execution_count": 13,
     "metadata": {},
     "output_type": "execute_result"
    }
   ],
   "source": [
    "#find the face (intensity map, (X, 542，512))\n",
    "\n",
    "import numpy as np\n",
    "\n",
    "data=\"/Users/henryschnieders/Desktop/Research/My work/Data/intensity_map.npy\"\n",
    "active=np.load(data)\n",
    "active\n"
   ]
  },
  {
   "cell_type": "code",
   "execution_count": 14,
   "id": "c85140a7-9fca-48fa-b821-c5d6e7a5e2c7",
   "metadata": {},
   "outputs": [],
   "source": [
    "#initialize the model\n",
    "import cv2\n",
    "\n",
    "detector=cv2.FaceDetectorYN_create('/Users/henryschnieders/Desktop/Research/My work/YuNet/models/face_detection_yunet/face_detection_yunet_2023mar.onnx',\n",
    "                          \"\", \n",
    "                          (300, 300),\n",
    "                          score_threshold=0.5) "
   ]
  },
  {
   "cell_type": "markdown",
   "id": "130c3745-8615-41bc-9a81-97811c510811",
   "metadata": {},
   "source": [
    "# With Greyscale PNG"
   ]
  },
  {
   "cell_type": "code",
   "execution_count": 5,
   "id": "11467608-1c6b-4196-bf0f-c2c14c6a7efa",
   "metadata": {},
   "outputs": [],
   "source": [
    "import cv2\n",
    "\n",
    "# Load an image to test the model\n",
    "image = cv2.imread('/Users/henryschnieders/Desktop/Research/My work/Data/facepic_resized.png')\n",
    "\n",
    "# Resize the image to match the input size of the model\n",
    "image_resized = cv2.resize(image, (300, 300))\n",
    "\n",
    "\n",
    "_, faces = detector.detect(image_resized)\n",
    "\n",
    "\n",
    "if faces is not None:\n",
    "    for face in faces:\n",
    "        bbox = face[:4].astype(int)  \n",
    "\n",
    "        cv2.rectangle(image_resized, (bbox[0], bbox[1]), (bbox[0] + bbox[2], bbox[1] + bbox[3]), (0, 255, 0), 2)\n",
    "\n",
    "cv2.imwrite('/Users/henryschnieders/Desktop/Research/My work/YuNet/png_detection.png', image_resized)\n",
    "cv2.imshow('Detected Faces', image_resized)\n"
   ]
  },
  {
   "cell_type": "markdown",
   "id": "a13ad83b-419b-4f1a-a42d-8c9d3d7d129e",
   "metadata": {},
   "source": [
    "# With numpy array"
   ]
  },
  {
   "cell_type": "code",
   "execution_count": 12,
   "id": "625d680e-678f-4fa0-991a-3a0100790c6c",
   "metadata": {},
   "outputs": [],
   "source": [
    "import cv2\n",
    "import time\n",
    "\n",
    "data=\"/Users/henryschnieders/Desktop/Research/My work/Data/intensity_map.npy\"\n",
    "\n",
    "image=np.load(data)\n",
    "\n",
    "# Resize the image to match the input size of the model\n",
    "image_resized = cv2.resize(image, (300, 300))\n",
    "image_rgb = cv2.cvtColor(image_resized, cv2.COLOR_GRAY2BGR)\n",
    "\n",
    "start=time.time()\n",
    "\n",
    "_, faces = detector.detect(image_rgb)\n",
    "\n",
    "end=time.time()\n",
    "delta=end-start\n",
    "\n",
    "rad=3\n",
    "color=(0,0,255)\n",
    "thickness=-1   #fill\n",
    "\n",
    "if faces is not None:\n",
    "    for face in faces:\n",
    "        bbox = face[:4].astype(int) \n",
    "\n",
    "        #bounding box\n",
    "        cv2.rectangle(image_rgb, (bbox[0], bbox[1]), (bbox[0] + bbox[2], bbox[1] + bbox[3]), (0, 255, 0), 2)\n",
    "        \n",
    "        #cheeks and chin\n",
    "        cv2.circle(image_rgb, center=(bbox[0]+int(bbox[2]*(1/6)), bbox[1]+int(bbox[3]/2)), radius=rad, color=color, thickness=thickness)\n",
    "        cv2.circle(image_rgb, center=(bbox[0]+int(bbox[2]*(5/6)), bbox[1]+int(bbox[3]/2)), radius=rad, color=color, thickness=thickness)\n",
    "\n",
    "        cv2.circle(image_rgb, center=(bbox[0]+int(bbox[2]/2), bbox[1]+int(bbox[3]*(7/8))), radius=rad, color=color, thickness=thickness)\n",
    "        \n",
    "        \n",
    "cv2.imwrite('/Users/henryschnieders/Desktop/Research/My work/YuNet/png_detection_nparray.png',image_rgb)\n",
    "cv2.imshow('Detected Faces', image_rgb)\n",
    "\n"
   ]
  },
  {
   "cell_type": "code",
   "execution_count": null,
   "id": "98c85a86-dcec-4cc9-a4f5-9479a9dc4abd",
   "metadata": {},
   "outputs": [],
   "source": []
  },
  {
   "cell_type": "code",
   "execution_count": null,
   "id": "0066eba4-4f4b-45f8-918a-da450709116b",
   "metadata": {},
   "outputs": [],
   "source": []
  }
 ],
 "metadata": {
  "kernelspec": {
   "display_name": "Python 3 (ipykernel)",
   "language": "python",
   "name": "python3"
  },
  "language_info": {
   "codemirror_mode": {
    "name": "ipython",
    "version": 3
   },
   "file_extension": ".py",
   "mimetype": "text/x-python",
   "name": "python",
   "nbconvert_exporter": "python",
   "pygments_lexer": "ipython3",
   "version": "3.9.6"
  }
 },
 "nbformat": 4,
 "nbformat_minor": 5
}
