{
 "cells": [
  {
   "cell_type": "code",
   "execution_count": 4,
   "id": "fc94c657-033e-490d-95fc-70f8473ee5bc",
   "metadata": {},
   "outputs": [],
   "source": [
    "import cv2\n",
    "import time\n",
    "import numpy as np\n",
    "detector=cv2.FaceDetectorYN_create('/Users/henryschnieders/Desktop/Research/My work/YuNet/models/face_detection_yunet/face_detection_yunet_2023mar.onnx',\n",
    "                          \"\", \n",
    "                          (300, 300),\n",
    "                          score_threshold=0.5) "
   ]
  },
  {
   "cell_type": "code",
   "execution_count": null,
   "id": "46e3d6ad-f5d1-4f3a-9a95-771fa3adcda2",
   "metadata": {},
   "outputs": [
    {
     "name": "stdout",
     "output_type": "stream",
     "text": [
      "0.02822589874267578\n"
     ]
    }
   ],
   "source": [
    "def get_frames(video_path, desired_frames, desired_dimensions):\n",
    "    # Open the video file\n",
    "    cap = cv2.VideoCapture(video_path)\n",
    "    fps = cap.get(cv2.CAP_PROP_FPS)\n",
    "\n",
    "    # Initialize an empty list to store frames\n",
    "    frames = []\n",
    "\n",
    "    # Frame processing loop\n",
    "    frame_count = 0\n",
    "    while cap.isOpened() and frame_count < desired_frames:\n",
    "        ret, frame = cap.read()\n",
    "        if not ret:\n",
    "            break\n",
    "        \n",
    "        # Resize frame to the desired dimensions\n",
    "        frame_resized = cv2.resize(frame, (desired_dimensions, desired_dimensions))\n",
    "\n",
    "        \n",
    "        # Add the frame to the list\n",
    "        frames.append(frame_resized)\n",
    "        \n",
    "        frame_count += 1\n",
    "\n",
    "    # Release the video capture object\n",
    "    cap.release()\n",
    "\n",
    "    return frames, fps\n",
    "\n",
    "frames,_ = get_frames('/Users/henryschnieders/Desktop/Research/My work/YuNet-trials/face_detection_faceup_yunet.mp4', 500, 300)\n"
   ]
  },
  {
   "cell_type": "code",
   "execution_count": null,
   "id": "07c843be-1f47-4b96-92a5-51a12312539f",
   "metadata": {},
   "outputs": [],
   "source": []
  },
  {
   "cell_type": "code",
   "execution_count": null,
   "id": "7c066e94-946b-4ae6-bc08-887139980626",
   "metadata": {},
   "outputs": [],
   "source": [
    "data=\"/Users/henryschnieders/Desktop/Research/My work/Data/intensity_map.npy\"\n",
    "\n",
    "image=np.load(data)\n",
    "\n",
    "# Resize the image to match the input size of the model\n",
    "image_resized = cv2.resize(image, (300, 300))\n",
    "image_rgb = cv2.cvtColor(image_resized, cv2.COLOR_GRAY2BGR)\n",
    "\n",
    "start=time.time()\n",
    "\n",
    "_, faces = detector.detect(image_rgb)\n",
    "\n",
    "end=time.time()\n",
    "delta=end-start\n",
    "\n",
    "print(delta)"
   ]
  }
 ],
 "metadata": {
  "kernelspec": {
   "display_name": "Python 3 (ipykernel)",
   "language": "python",
   "name": "python3"
  },
  "language_info": {
   "codemirror_mode": {
    "name": "ipython",
    "version": 3
   },
   "file_extension": ".py",
   "mimetype": "text/x-python",
   "name": "python",
   "nbconvert_exporter": "python",
   "pygments_lexer": "ipython3",
   "version": "3.9.6"
  }
 },
 "nbformat": 4,
 "nbformat_minor": 5
}
