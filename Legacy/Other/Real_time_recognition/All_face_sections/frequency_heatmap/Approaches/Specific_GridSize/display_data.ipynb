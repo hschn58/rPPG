{
 "cells": [
  {
   "cell_type": "code",
   "execution_count": 35,
   "metadata": {},
   "outputs": [
    {
     "name": "stdout",
     "output_type": "stream",
     "text": [
      "(10, 10)\n"
     ]
    },
    {
     "ename": "TypeError",
     "evalue": "'int' object is not subscriptable",
     "output_type": "error",
     "traceback": [
      "\u001b[0;31m---------------------------------------------------------------------------\u001b[0m",
      "\u001b[0;31mTypeError\u001b[0m                                 Traceback (most recent call last)",
      "Cell \u001b[0;32mIn[35], line 14\u001b[0m\n\u001b[1;32m     11\u001b[0m data\u001b[38;5;241m=\u001b[39mnp\u001b[38;5;241m.\u001b[39mload(filename, allow_pickle\u001b[38;5;241m=\u001b[39m\u001b[38;5;28;01mTrue\u001b[39;00m)\n\u001b[1;32m     12\u001b[0m \u001b[38;5;28mprint\u001b[39m(data[\u001b[38;5;241m0\u001b[39m]\u001b[38;5;241m.\u001b[39mshape)\n\u001b[0;32m---> 14\u001b[0m var \u001b[38;5;241m=\u001b[39m [\u001b[43mframe\u001b[49m\u001b[43m[\u001b[49m\u001b[38;5;241;43m0\u001b[39;49m\u001b[43m,\u001b[49m\u001b[38;5;241;43m0\u001b[39;49m\u001b[43m]\u001b[49m \u001b[38;5;28;01mfor\u001b[39;00m frame \u001b[38;5;129;01min\u001b[39;00m data]\n\u001b[1;32m     15\u001b[0m \u001b[38;5;28mprint\u001b[39m(var)\n\u001b[1;32m     17\u001b[0m \u001b[38;5;66;03m# for frame in loaded_list_of_arrays:\u001b[39;00m\n\u001b[1;32m     18\u001b[0m \u001b[38;5;66;03m#     print(frame)\u001b[39;00m\n\u001b[1;32m     19\u001b[0m \u001b[38;5;66;03m#have to use lists now since t\u001b[39;00m\n\u001b[0;32m   (...)\u001b[0m\n\u001b[1;32m     29\u001b[0m    \n\u001b[1;32m     30\u001b[0m \u001b[38;5;66;03m# cv2.destroyAllWindows()\u001b[39;00m\n",
      "\u001b[0;31mTypeError\u001b[0m: 'int' object is not subscriptable"
     ]
    }
   ],
   "source": [
    "import params\n",
    "import numpy as np\n",
    "import cv2\n",
    "import pickle\n",
    "\n",
    "X_SIZE, Y_SIZE = params.X_SIZE, params.Y_SIZE\n",
    "\n",
    "vid_name='sporting_1'\n",
    "filename='/Users/henryschnieders/Desktop/Research/My_work/Real_time_recognition/All_face_sections/Data/'+f'{vid_name}'+'_frames.npy'\n",
    "\n",
    "data=np.load(filename, allow_pickle=True)\n",
    "print(data[0].shape)\n",
    "\n",
    "var = [frame[0,0] for frame in data]\n",
    "print(var)\n",
    "\n",
    "# for frame in loaded_list_of_arrays:\n",
    "#     print(frame)\n",
    "#have to use lists now since t\n",
    "# hey have different shapes\n",
    "\n",
    "\n",
    "\n",
    "\n",
    "# for image in range(Amplitude.shape[0]):\n",
    "#    cv2.imshow('image',Amplitude[image])\n",
    "#    if cv2.waitKey(1) & 0xFF == ord('q'):  # Adjust the delay as needed, and press 'q' to exit early\n",
    "#         break\n",
    "   \n",
    "# cv2.destroyAllWindows()"
   ]
  },
  {
   "cell_type": "markdown",
   "metadata": {},
   "source": [
    "# Be sure that I know how the frame indexing works"
   ]
  },
  {
   "cell_type": "code",
   "execution_count": 5,
   "metadata": {},
   "outputs": [],
   "source": [
    "# photo_path='/Users/henryschnieders/Downloads/Figure_1.png'\n",
    "\n",
    "# image=cv2.imread(photo_path)\n",
    "# print(image.shape)\n",
    "# selected_region=image[700:1000,200:400,:] #imaging is [row, col, BGR]\n",
    "# cv2.imshow('image',selected_region)\n",
    "# cv2.waitKey(5000)\n",
    "# cv2.destroyAllWindows()"
   ]
  },
  {
   "cell_type": "code",
   "execution_count": 33,
   "metadata": {},
   "outputs": [],
   "source": [
    "\n"
   ]
  },
  {
   "cell_type": "code",
   "execution_count": null,
   "metadata": {},
   "outputs": [],
   "source": []
  },
  {
   "cell_type": "code",
   "execution_count": null,
   "metadata": {},
   "outputs": [],
   "source": []
  }
 ],
 "metadata": {
  "kernelspec": {
   "display_name": "Python 3",
   "language": "python",
   "name": "python3"
  },
  "language_info": {
   "codemirror_mode": {
    "name": "ipython",
    "version": 3
   },
   "file_extension": ".py",
   "mimetype": "text/x-python",
   "name": "python",
   "nbconvert_exporter": "python",
   "pygments_lexer": "ipython3",
   "version": "3.12.5"
  }
 },
 "nbformat": 4,
 "nbformat_minor": 2
}
