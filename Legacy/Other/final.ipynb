{
 "cells": [
  {
   "cell_type": "code",
   "execution_count": 4,
   "id": "fc94c657-033e-490d-95fc-70f8473ee5bc",
   "metadata": {},
   "outputs": [],
   "source": [
    "import cv2\n",
    "import time\n",
    "import numpy as np\n",
    "detector=cv2.FaceDetectorYN_create('/Users/henryschnieders/Desktop/Research/My work/YuNet/models/face_detection_yunet/face_detection_yunet_2023mar.onnx',\n",
    "                          \"\", \n",
    "                          (300, 300),\n",
    "                          score_threshold=0.5) "
   ]
  },
  {
   "cell_type": "code",
   "execution_count": 5,
   "id": "46e3d6ad-f5d1-4f3a-9a95-771fa3adcda2",
   "metadata": {},
   "outputs": [
    {
     "name": "stdout",
     "output_type": "stream",
     "text": [
      "0.02822589874267578\n"
     ]
    }
   ],
   "source": [
    "data=\"/Users/henryschnieders/Desktop/Research/My work/Data/intensity_map.npy\"\n",
    "\n",
    "image=np.load(data)\n",
    "\n",
    "# Resize the image to match the input size of the model\n",
    "image_resized = cv2.resize(image, (300, 300))\n",
    "image_rgb = cv2.cvtColor(image_resized, cv2.COLOR_GRAY2BGR)\n",
    "\n",
    "start=time.time()\n",
    "\n",
    "_, faces = detector.detect(image_rgb)\n",
    "\n",
    "end=time.time()\n",
    "delta=end-start\n",
    "\n",
    "print(delta)"
   ]
  },
  {
   "cell_type": "code",
   "execution_count": null,
   "id": "07c843be-1f47-4b96-92a5-51a12312539f",
   "metadata": {},
   "outputs": [],
   "source": [
    "#28 milliseconds"
   ]
  },
  {
   "cell_type": "markdown",
   "id": "7c066e94-946b-4ae6-bc08-887139980626",
   "metadata": {},
   "source": [
    "# Using camera capture with cv2"
   ]
  },
  {
   "cell_type": "code",
   "execution_count": 1,
   "id": "c52ee54b",
   "metadata": {},
   "outputs": [
    {
     "ename": "",
     "evalue": "",
     "output_type": "error",
     "traceback": [
      "\u001b[1;31mThe Kernel crashed while executing code in the current cell or a previous cell. \n",
      "\u001b[1;31mPlease review the code in the cell(s) to identify a possible cause of the failure. \n",
      "\u001b[1;31mClick <a href='https://aka.ms/vscodeJupyterKernelCrash'>here</a> for more info. \n",
      "\u001b[1;31mView Jupyter <a href='command:jupyter.viewOutput'>log</a> for further details."
     ]
    }
   ],
   "source": [
    "import cv2\n",
    "\n",
    "# Open the default camera (camera index 0)\n",
    "cap = cv2.VideoCapture(0)\n",
    "\n",
    "# Check if the camera opened successfully\n",
    "if not cap.isOpened():\n",
    "    print(\"Error: Could not open camera.\")\n",
    "    exit()\n",
    "\n",
    "# Loop to continuously capture frames\n",
    "while True:\n",
    "    # Capture frame-by-frame\n",
    "    ret, frame = cap.read()\n",
    "\n",
    "    # If the frame is read correctly, ret is True\n",
    "    if not ret:\n",
    "        print(\"Error: Failed to capture image.\")\n",
    "        break\n",
    "\n",
    "    # Mirror the frame horizontally\n",
    "    frame = cv2.flip(frame, 1)\n",
    "    \n",
    "    # Display the resulting frame\n",
    "    cv2.imshow('Mirrored Camera Feed', frame)\n",
    "\n",
    "    # Exit the loop when 'q' is pressed\n",
    "    if cv2.waitKey(1) & 0xFF == ord('q'):\n",
    "        break\n",
    "\n",
    "# Release the camera and close all OpenCV windows\n",
    "cap.release()\n",
    "cv2.destroyAllWindows()\n",
    "\n"
   ]
  },
  {
   "cell_type": "code",
   "execution_count": 5,
   "id": "9c55fba5",
   "metadata": {},
   "outputs": [
    {
     "ename": "AttributeError",
     "evalue": "module 'signal_process_1_4' has no attribute 'plot_loc'",
     "output_type": "error",
     "traceback": [
      "\u001b[0;31m---------------------------------------------------------------------------\u001b[0m",
      "\u001b[0;31mAttributeError\u001b[0m                            Traceback (most recent call last)",
      "Cell \u001b[0;32mIn[5], line 6\u001b[0m\n\u001b[1;32m      2\u001b[0m os\u001b[38;5;241m.\u001b[39mchdir(\u001b[38;5;124m'\u001b[39m\u001b[38;5;124m/Users/henryschnieders/Desktop/Research/My work/video_plus_analysis\u001b[39m\u001b[38;5;124m'\u001b[39m)\n\u001b[1;32m      4\u001b[0m \u001b[38;5;28;01mimport\u001b[39;00m \u001b[38;5;21;01msignal_process_1_4\u001b[39;00m \n\u001b[0;32m----> 6\u001b[0m \u001b[38;5;28mprint\u001b[39m(\u001b[43msignal_process_1_4\u001b[49m\u001b[38;5;241;43m.\u001b[39;49m\u001b[43mplot_loc\u001b[49m)\n",
      "\u001b[0;31mAttributeError\u001b[0m: module 'signal_process_1_4' has no attribute 'plot_loc'"
     ]
    }
   ],
   "source": [
    "import os\n",
    "os.chdir('/Users/henryschnieders/Desktop/Research/My work/video_plus_analysis')\n",
    "\n",
    "import signal_process_1_4 \n",
    "\n",
    "print(signal_process_1_4.plot_loc)"
   ]
  },
  {
   "cell_type": "code",
   "execution_count": null,
   "id": "033b8112",
   "metadata": {},
   "outputs": [],
   "source": []
  }
 ],
 "metadata": {
  "kernelspec": {
   "display_name": "Python 3 (ipykernel)",
   "language": "python",
   "name": "python3"
  },
  "language_info": {
   "codemirror_mode": {
    "name": "ipython",
    "version": 3
   },
   "file_extension": ".py",
   "mimetype": "text/x-python",
   "name": "python",
   "nbconvert_exporter": "python",
   "pygments_lexer": "ipython3",
   "version": "3.12.5"
  }
 },
 "nbformat": 4,
 "nbformat_minor": 5
}
